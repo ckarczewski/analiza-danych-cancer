{
 "cells": [
  {
   "cell_type": "code",
   "execution_count": null,
   "id": "09751097-f115-4adc-bce3-d862c74318c8",
   "metadata": {},
   "outputs": [],
   "source": [
    "# Cezary Karczewski 229268 Analiza Danych"
   ]
  },
  {
   "cell_type": "code",
   "execution_count": 15,
   "id": "df727dd0-5e84-4008-aa5b-7a079437a094",
   "metadata": {},
   "outputs": [
    {
     "data": {
      "text/plain": [
       "'1.3.4'"
      ]
     },
     "execution_count": 15,
     "metadata": {},
     "output_type": "execute_result"
    }
   ],
   "source": [
    "import pandas as pd\n",
    "pandas.__version__"
   ]
  },
  {
   "cell_type": "code",
   "execution_count": null,
   "id": "0010994d-6147-4abc-bc39-5cbb4572f2f6",
   "metadata": {},
   "outputs": [],
   "source": []
  },
  {
   "cell_type": "code",
   "execution_count": null,
   "id": "09850fff-f116-4933-8678-c37b0c917613",
   "metadata": {},
   "outputs": [],
   "source": []
  },
  {
   "cell_type": "code",
   "execution_count": null,
   "id": "802b3c0a-12af-4994-b73e-11f95866c859",
   "metadata": {},
   "outputs": [],
   "source": []
  },
  {
   "cell_type": "code",
   "execution_count": null,
   "id": "c2231968-b231-4dcb-9957-73faf53f09cf",
   "metadata": {},
   "outputs": [],
   "source": []
  },
  {
   "cell_type": "code",
   "execution_count": 11,
   "id": "bf606a9d-87ce-4bb5-bf46-4270b2ffd227",
   "metadata": {},
   "outputs": [],
   "source": [
    "data = pd.read_fwf(\"breast-cancer.data\")"
   ]
  },
  {
   "cell_type": "code",
   "execution_count": 12,
   "id": "ec073322-f1db-45d9-9b52-5b439d364bc3",
   "metadata": {},
   "outputs": [
    {
     "name": "stdout",
     "output_type": "stream",
     "text": [
      "    no-recurrence-events,30-39,premeno,30-34,0-2,no,3,left,left_low,no\n",
      "0    no-recurrence-events,40-49,premeno,20-24,0-2,n...                \n",
      "1    no-recurrence-events,40-49,premeno,20-24,0-2,n...                \n",
      "2    no-recurrence-events,60-69,ge40,15-19,0-2,no,2...                \n",
      "3    no-recurrence-events,40-49,premeno,0-4,0-2,no,...                \n",
      "4    no-recurrence-events,60-69,ge40,15-19,0-2,no,2...                \n",
      "..                                                 ...                \n",
      "280  recurrence-events,30-39,premeno,30-34,0-2,no,2...                \n",
      "281  recurrence-events,30-39,premeno,20-24,0-2,no,3...                \n",
      "282  recurrence-events,60-69,ge40,20-24,0-2,no,1,ri...                \n",
      "283  recurrence-events,40-49,ge40,30-34,3-5,no,3,le...                \n",
      "284  recurrence-events,50-59,ge40,30-34,3-5,no,3,le...                \n",
      "\n",
      "[285 rows x 1 columns]\n"
     ]
    }
   ],
   "source": [
    "print(data)"
   ]
  },
  {
   "cell_type": "code",
   "execution_count": null,
   "id": "8ad15ba4-d616-4495-b000-e0819cb709bc",
   "metadata": {},
   "outputs": [],
   "source": []
  },
  {
   "cell_type": "code",
   "execution_count": null,
   "id": "53eaf0d9-1d42-4083-b0bd-118246a38a2b",
   "metadata": {},
   "outputs": [],
   "source": []
  }
 ],
 "metadata": {
  "kernelspec": {
   "display_name": "Python 3 (ipykernel)",
   "language": "python",
   "name": "python3"
  },
  "language_info": {
   "codemirror_mode": {
    "name": "ipython",
    "version": 3
   },
   "file_extension": ".py",
   "mimetype": "text/x-python",
   "name": "python",
   "nbconvert_exporter": "python",
   "pygments_lexer": "ipython3",
   "version": "3.9.7"
  }
 },
 "nbformat": 4,
 "nbformat_minor": 5
}
