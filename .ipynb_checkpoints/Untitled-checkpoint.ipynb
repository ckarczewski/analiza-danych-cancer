{
 "cells": [
  {
   "cell_type": "code",
   "execution_count": null,
   "id": "09751097-f115-4adc-bce3-d862c74318c8",
   "metadata": {},
   "outputs": [],
   "source": [
    "# Cezary Karczewski 229268 Analiza Danych"
   ]
  },
  {
   "cell_type": "code",
   "execution_count": null,
   "id": "45fe918a",
   "metadata": {},
   "outputs": [],
   "source": [
    "# Źródło danych\n",
    "# https://archive.ics.uci.edu/ml/datasets/Breast+Cancer\n",
    "\n",
    "# This is one of three domains provided by the Oncology Institute that has repeatedly \n",
    "# appeared in the machine learning literature. (See also lymphography and primary-tumor.)\n",
    "# This data set includes 201 instances of one class and 85 instances of another class.\n",
    "# The instances are described by 9 attributes, some of which are linear and some are nominal. \n",
    "\n",
    "# Attribute Information:\n",
    "\n",
    "# 1. Class: no-recurrence-events, recurrence-events\n",
    "# 2. age: 10-19, 20-29, 30-39, 40-49, 50-59, 60-69, 70-79, 80-89, 90-99.\n",
    "# 3. menopause: lt40, ge40, premeno.\n",
    "# 4. tumor-size: 0-4, 5-9, 10-14, 15-19, 20-24, 25-29, 30-34, 35-39, 40-44, 45-49, 50-54, 55-59.\n",
    "# 5. inv-nodes: 0-2, 3-5, 6-8, 9-11, 12-14, 15-17, 18-20, 21-23, 24-26, 27-29, 30-32, 33-35, 36-39.\n",
    "# 6. node-caps: yes, no.\n",
    "# 7. deg-malig: 1, 2, 3.\n",
    "# 8. breast: left, right.\n",
    "# 9. breast-quad: left-up, left-low, right-up, right-low, central.\n",
    "# 10. irradiat: yes, no."
   ]
  },
  {
   "cell_type": "code",
   "execution_count": 3,
   "id": "df727dd0-5e84-4008-aa5b-7a079437a094",
   "metadata": {},
   "outputs": [],
   "source": [
    "import pandas as pd\n",
    "import numpy as np\n",
    "\n",
    "import matplotlib.pyplot as plt"
   ]
  },
  {
   "cell_type": "code",
   "execution_count": 4,
   "id": "487926cf",
   "metadata": {},
   "outputs": [],
   "source": [
    "data = pd.read_csv('breast-cancer.csv')"
   ]
  },
  {
   "cell_type": "code",
   "execution_count": 32,
   "id": "5a70b780",
   "metadata": {},
   "outputs": [
    {
     "data": {
      "text/html": [
       "<div>\n",
       "<style scoped>\n",
       "    .dataframe tbody tr th:only-of-type {\n",
       "        vertical-align: middle;\n",
       "    }\n",
       "\n",
       "    .dataframe tbody tr th {\n",
       "        vertical-align: top;\n",
       "    }\n",
       "\n",
       "    .dataframe thead th {\n",
       "        text-align: right;\n",
       "    }\n",
       "</style>\n",
       "<table border=\"1\" class=\"dataframe\">\n",
       "  <thead>\n",
       "    <tr style=\"text-align: right;\">\n",
       "      <th></th>\n",
       "      <th>Class</th>\n",
       "      <th>age</th>\n",
       "      <th>menopause</th>\n",
       "      <th>Tumor-size</th>\n",
       "      <th>Inv-nodes</th>\n",
       "      <th>Node-caps</th>\n",
       "      <th>Deg-malig</th>\n",
       "      <th>breast</th>\n",
       "      <th>Breast-quad</th>\n",
       "      <th>irradiat</th>\n",
       "    </tr>\n",
       "  </thead>\n",
       "  <tbody>\n",
       "    <tr>\n",
       "      <th>0</th>\n",
       "      <td>no-recurrence-events</td>\n",
       "      <td>30-39</td>\n",
       "      <td>premeno</td>\n",
       "      <td>30-34</td>\n",
       "      <td>0-2</td>\n",
       "      <td>no</td>\n",
       "      <td>3</td>\n",
       "      <td>left</td>\n",
       "      <td>left_low</td>\n",
       "      <td>no</td>\n",
       "    </tr>\n",
       "    <tr>\n",
       "      <th>1</th>\n",
       "      <td>no-recurrence-events</td>\n",
       "      <td>40-49</td>\n",
       "      <td>premeno</td>\n",
       "      <td>20-24</td>\n",
       "      <td>0-2</td>\n",
       "      <td>no</td>\n",
       "      <td>2</td>\n",
       "      <td>right</td>\n",
       "      <td>right_up</td>\n",
       "      <td>no</td>\n",
       "    </tr>\n",
       "    <tr>\n",
       "      <th>2</th>\n",
       "      <td>no-recurrence-events</td>\n",
       "      <td>40-49</td>\n",
       "      <td>premeno</td>\n",
       "      <td>20-24</td>\n",
       "      <td>0-2</td>\n",
       "      <td>no</td>\n",
       "      <td>2</td>\n",
       "      <td>left</td>\n",
       "      <td>left_low</td>\n",
       "      <td>no</td>\n",
       "    </tr>\n",
       "    <tr>\n",
       "      <th>3</th>\n",
       "      <td>no-recurrence-events</td>\n",
       "      <td>60-69</td>\n",
       "      <td>ge40</td>\n",
       "      <td>15-19</td>\n",
       "      <td>0-2</td>\n",
       "      <td>no</td>\n",
       "      <td>2</td>\n",
       "      <td>right</td>\n",
       "      <td>left_up</td>\n",
       "      <td>no</td>\n",
       "    </tr>\n",
       "    <tr>\n",
       "      <th>4</th>\n",
       "      <td>no-recurrence-events</td>\n",
       "      <td>40-49</td>\n",
       "      <td>premeno</td>\n",
       "      <td>0-4</td>\n",
       "      <td>0-2</td>\n",
       "      <td>no</td>\n",
       "      <td>2</td>\n",
       "      <td>right</td>\n",
       "      <td>right_low</td>\n",
       "      <td>no</td>\n",
       "    </tr>\n",
       "  </tbody>\n",
       "</table>\n",
       "</div>"
      ],
      "text/plain": [
       "                  Class    age menopause Tumor-size Inv-nodes Node-caps  \\\n",
       "0  no-recurrence-events  30-39   premeno      30-34       0-2        no   \n",
       "1  no-recurrence-events  40-49   premeno      20-24       0-2        no   \n",
       "2  no-recurrence-events  40-49   premeno      20-24       0-2        no   \n",
       "3  no-recurrence-events  60-69      ge40      15-19       0-2        no   \n",
       "4  no-recurrence-events  40-49   premeno        0-4       0-2        no   \n",
       "\n",
       "   Deg-malig breast Breast-quad irradiat  \n",
       "0          3   left    left_low       no  \n",
       "1          2  right    right_up       no  \n",
       "2          2   left    left_low       no  \n",
       "3          2  right     left_up       no  \n",
       "4          2  right   right_low       no  "
      ]
     },
     "execution_count": 32,
     "metadata": {},
     "output_type": "execute_result"
    }
   ],
   "source": [
    "data.head()"
   ]
  },
  {
   "cell_type": "code",
   "execution_count": 33,
   "id": "bf1eb3c5",
   "metadata": {},
   "outputs": [
    {
     "data": {
      "text/html": [
       "<div>\n",
       "<style scoped>\n",
       "    .dataframe tbody tr th:only-of-type {\n",
       "        vertical-align: middle;\n",
       "    }\n",
       "\n",
       "    .dataframe tbody tr th {\n",
       "        vertical-align: top;\n",
       "    }\n",
       "\n",
       "    .dataframe thead th {\n",
       "        text-align: right;\n",
       "    }\n",
       "</style>\n",
       "<table border=\"1\" class=\"dataframe\">\n",
       "  <thead>\n",
       "    <tr style=\"text-align: right;\">\n",
       "      <th></th>\n",
       "      <th>Deg-malig</th>\n",
       "    </tr>\n",
       "  </thead>\n",
       "  <tbody>\n",
       "    <tr>\n",
       "      <th>count</th>\n",
       "      <td>286.000000</td>\n",
       "    </tr>\n",
       "    <tr>\n",
       "      <th>mean</th>\n",
       "      <td>2.048951</td>\n",
       "    </tr>\n",
       "    <tr>\n",
       "      <th>std</th>\n",
       "      <td>0.738217</td>\n",
       "    </tr>\n",
       "    <tr>\n",
       "      <th>min</th>\n",
       "      <td>1.000000</td>\n",
       "    </tr>\n",
       "    <tr>\n",
       "      <th>25%</th>\n",
       "      <td>2.000000</td>\n",
       "    </tr>\n",
       "    <tr>\n",
       "      <th>50%</th>\n",
       "      <td>2.000000</td>\n",
       "    </tr>\n",
       "    <tr>\n",
       "      <th>75%</th>\n",
       "      <td>3.000000</td>\n",
       "    </tr>\n",
       "    <tr>\n",
       "      <th>max</th>\n",
       "      <td>3.000000</td>\n",
       "    </tr>\n",
       "  </tbody>\n",
       "</table>\n",
       "</div>"
      ],
      "text/plain": [
       "        Deg-malig\n",
       "count  286.000000\n",
       "mean     2.048951\n",
       "std      0.738217\n",
       "min      1.000000\n",
       "25%      2.000000\n",
       "50%      2.000000\n",
       "75%      3.000000\n",
       "max      3.000000"
      ]
     },
     "execution_count": 33,
     "metadata": {},
     "output_type": "execute_result"
    }
   ],
   "source": [
    "data.describe() #statystki opisowe"
   ]
  },
  {
   "cell_type": "code",
   "execution_count": 34,
   "id": "ec073322-f1db-45d9-9b52-5b439d364bc3",
   "metadata": {
    "scrolled": true
   },
   "outputs": [
    {
     "name": "stdout",
     "output_type": "stream",
     "text": [
      "                    Class    age menopause Tumor-size Inv-nodes Node-caps  \\\n",
      "0    no-recurrence-events  30-39   premeno      30-34       0-2        no   \n",
      "1    no-recurrence-events  40-49   premeno      20-24       0-2        no   \n",
      "2    no-recurrence-events  40-49   premeno      20-24       0-2        no   \n",
      "3    no-recurrence-events  60-69      ge40      15-19       0-2        no   \n",
      "4    no-recurrence-events  40-49   premeno        0-4       0-2        no   \n",
      "..                    ...    ...       ...        ...       ...       ...   \n",
      "281     recurrence-events  30-39   premeno      30-34       0-2        no   \n",
      "282     recurrence-events  30-39   premeno      20-24       0-2        no   \n",
      "283     recurrence-events  60-69      ge40      20-24       0-2        no   \n",
      "284     recurrence-events  40-49      ge40      30-34       3-5        no   \n",
      "285     recurrence-events  50-59      ge40      30-34       3-5        no   \n",
      "\n",
      "     Deg-malig breast Breast-quad irradiat  \n",
      "0            3   left    left_low       no  \n",
      "1            2  right    right_up       no  \n",
      "2            2   left    left_low       no  \n",
      "3            2  right     left_up       no  \n",
      "4            2  right   right_low       no  \n",
      "..         ...    ...         ...      ...  \n",
      "281          2   left     left_up       no  \n",
      "282          3   left     left_up      yes  \n",
      "283          1  right     left_up       no  \n",
      "284          3   left    left_low       no  \n",
      "285          3   left    left_low       no  \n",
      "\n",
      "[286 rows x 10 columns]\n"
     ]
    }
   ],
   "source": [
    "print(data) "
   ]
  },
  {
   "cell_type": "code",
   "execution_count": 70,
   "id": "ebd8af2a",
   "metadata": {
    "scrolled": true
   },
   "outputs": [
    {
     "data": {
      "text/plain": [
       "Class          0\n",
       "age            0\n",
       "menopause      0\n",
       "Tumor-size     0\n",
       "Inv-nodes      0\n",
       "Node-caps      8\n",
       "Deg-malig      0\n",
       "breast         0\n",
       "Breast-quad    1\n",
       "irradiat       0\n",
       "dtype: int64"
      ]
     },
     "execution_count": 70,
     "metadata": {},
     "output_type": "execute_result"
    }
   ],
   "source": [
    "data=data.replace('?',np.NaN)\n",
    "data.isnull().sum()"
   ]
  },
  {
   "cell_type": "code",
   "execution_count": 6,
   "id": "62cad662",
   "metadata": {},
   "outputs": [
    {
     "data": {
      "text/plain": [
       "<AxesSubplot:>"
      ]
     },
     "execution_count": 6,
     "metadata": {},
     "output_type": "execute_result"
    },
    {
     "data": {
      "image/png": "[encoded data removed]",
      "text/plain": [
       "<Figure size 576x288 with 1 Axes>"
      ]
     },
     "metadata": {
      "needs_background": "light"
     },
     "output_type": "display_data"
    }
   ],
   "source": [
    "fig, ax = plt.subplots(figsize=(8, 4))\n",
    "(1 - data.isnull().mean()).abs().plot.bar(ax=ax)"
   ]
  },
  {
   "cell_type": "code",
   "execution_count": 40,
   "id": "8ad15ba4-d616-4495-b000-e0819cb709bc",
   "metadata": {},
   "outputs": [
    {
     "data": {
      "text/html": [
       "<div>\n",
       "<style scoped>\n",
       "    .dataframe tbody tr th:only-of-type {\n",
       "        vertical-align: middle;\n",
       "    }\n",
       "\n",
       "    .dataframe tbody tr th {\n",
       "        vertical-align: top;\n",
       "    }\n",
       "\n",
       "    .dataframe thead th {\n",
       "        text-align: right;\n",
       "    }\n",
       "</style>\n",
       "<table border=\"1\" class=\"dataframe\">\n",
       "  <thead>\n",
       "    <tr style=\"text-align: right;\">\n",
       "      <th></th>\n",
       "      <th>Class</th>\n",
       "      <th>age</th>\n",
       "      <th>menopause</th>\n",
       "      <th>Tumor-size</th>\n",
       "      <th>Inv-nodes</th>\n",
       "      <th>Node-caps</th>\n",
       "      <th>Deg-malig</th>\n",
       "      <th>breast</th>\n",
       "      <th>Breast-quad</th>\n",
       "      <th>irradiat</th>\n",
       "    </tr>\n",
       "  </thead>\n",
       "  <tbody>\n",
       "    <tr>\n",
       "      <th>0</th>\n",
       "      <td>no-recurrence-events</td>\n",
       "      <td>30-39</td>\n",
       "      <td>premeno</td>\n",
       "      <td>30-34</td>\n",
       "      <td>0-2</td>\n",
       "      <td>no</td>\n",
       "      <td>3</td>\n",
       "      <td>left</td>\n",
       "      <td>left_low</td>\n",
       "      <td>no</td>\n",
       "    </tr>\n",
       "    <tr>\n",
       "      <th>1</th>\n",
       "      <td>no-recurrence-events</td>\n",
       "      <td>40-49</td>\n",
       "      <td>premeno</td>\n",
       "      <td>20-24</td>\n",
       "      <td>0-2</td>\n",
       "      <td>no</td>\n",
       "      <td>2</td>\n",
       "      <td>right</td>\n",
       "      <td>right_up</td>\n",
       "      <td>no</td>\n",
       "    </tr>\n",
       "    <tr>\n",
       "      <th>2</th>\n",
       "      <td>no-recurrence-events</td>\n",
       "      <td>40-49</td>\n",
       "      <td>premeno</td>\n",
       "      <td>20-24</td>\n",
       "      <td>0-2</td>\n",
       "      <td>no</td>\n",
       "      <td>2</td>\n",
       "      <td>left</td>\n",
       "      <td>left_low</td>\n",
       "      <td>no</td>\n",
       "    </tr>\n",
       "    <tr>\n",
       "      <th>3</th>\n",
       "      <td>no-recurrence-events</td>\n",
       "      <td>60-69</td>\n",
       "      <td>ge40</td>\n",
       "      <td>15-19</td>\n",
       "      <td>0-2</td>\n",
       "      <td>no</td>\n",
       "      <td>2</td>\n",
       "      <td>right</td>\n",
       "      <td>left_up</td>\n",
       "      <td>no</td>\n",
       "    </tr>\n",
       "    <tr>\n",
       "      <th>4</th>\n",
       "      <td>no-recurrence-events</td>\n",
       "      <td>40-49</td>\n",
       "      <td>premeno</td>\n",
       "      <td>0-4</td>\n",
       "      <td>0-2</td>\n",
       "      <td>no</td>\n",
       "      <td>2</td>\n",
       "      <td>right</td>\n",
       "      <td>right_low</td>\n",
       "      <td>no</td>\n",
       "    </tr>\n",
       "    <tr>\n",
       "      <th>...</th>\n",
       "      <td>...</td>\n",
       "      <td>...</td>\n",
       "      <td>...</td>\n",
       "      <td>...</td>\n",
       "      <td>...</td>\n",
       "      <td>...</td>\n",
       "      <td>...</td>\n",
       "      <td>...</td>\n",
       "      <td>...</td>\n",
       "      <td>...</td>\n",
       "    </tr>\n",
       "    <tr>\n",
       "      <th>281</th>\n",
       "      <td>recurrence-events</td>\n",
       "      <td>30-39</td>\n",
       "      <td>premeno</td>\n",
       "      <td>30-34</td>\n",
       "      <td>0-2</td>\n",
       "      <td>no</td>\n",
       "      <td>2</td>\n",
       "      <td>left</td>\n",
       "      <td>left_up</td>\n",
       "      <td>no</td>\n",
       "    </tr>\n",
       "    <tr>\n",
       "      <th>282</th>\n",
       "      <td>recurrence-events</td>\n",
       "      <td>30-39</td>\n",
       "      <td>premeno</td>\n",
       "      <td>20-24</td>\n",
       "      <td>0-2</td>\n",
       "      <td>no</td>\n",
       "      <td>3</td>\n",
       "      <td>left</td>\n",
       "      <td>left_up</td>\n",
       "      <td>yes</td>\n",
       "    </tr>\n",
       "    <tr>\n",
       "      <th>283</th>\n",
       "      <td>recurrence-events</td>\n",
       "      <td>60-69</td>\n",
       "      <td>ge40</td>\n",
       "      <td>20-24</td>\n",
       "      <td>0-2</td>\n",
       "      <td>no</td>\n",
       "      <td>1</td>\n",
       "      <td>right</td>\n",
       "      <td>left_up</td>\n",
       "      <td>no</td>\n",
       "    </tr>\n",
       "    <tr>\n",
       "      <th>284</th>\n",
       "      <td>recurrence-events</td>\n",
       "      <td>40-49</td>\n",
       "      <td>ge40</td>\n",
       "      <td>30-34</td>\n",
       "      <td>3-5</td>\n",
       "      <td>no</td>\n",
       "      <td>3</td>\n",
       "      <td>left</td>\n",
       "      <td>left_low</td>\n",
       "      <td>no</td>\n",
       "    </tr>\n",
       "    <tr>\n",
       "      <th>285</th>\n",
       "      <td>recurrence-events</td>\n",
       "      <td>50-59</td>\n",
       "      <td>ge40</td>\n",
       "      <td>30-34</td>\n",
       "      <td>3-5</td>\n",
       "      <td>no</td>\n",
       "      <td>3</td>\n",
       "      <td>left</td>\n",
       "      <td>left_low</td>\n",
       "      <td>no</td>\n",
       "    </tr>\n",
       "  </tbody>\n",
       "</table>\n",
       "<p>286 rows × 10 columns</p>\n",
       "</div>"
      ],
      "text/plain": [
       "                    Class    age menopause Tumor-size Inv-nodes Node-caps  \\\n",
       "0    no-recurrence-events  30-39   premeno      30-34       0-2        no   \n",
       "1    no-recurrence-events  40-49   premeno      20-24       0-2        no   \n",
       "2    no-recurrence-events  40-49   premeno      20-24       0-2        no   \n",
       "3    no-recurrence-events  60-69      ge40      15-19       0-2        no   \n",
       "4    no-recurrence-events  40-49   premeno        0-4       0-2        no   \n",
       "..                    ...    ...       ...        ...       ...       ...   \n",
       "281     recurrence-events  30-39   premeno      30-34       0-2        no   \n",
       "282     recurrence-events  30-39   premeno      20-24       0-2        no   \n",
       "283     recurrence-events  60-69      ge40      20-24       0-2        no   \n",
       "284     recurrence-events  40-49      ge40      30-34       3-5        no   \n",
       "285     recurrence-events  50-59      ge40      30-34       3-5        no   \n",
       "\n",
       "     Deg-malig breast Breast-quad irradiat  \n",
       "0            3   left    left_low       no  \n",
       "1            2  right    right_up       no  \n",
       "2            2   left    left_low       no  \n",
       "3            2  right     left_up       no  \n",
       "4            2  right   right_low       no  \n",
       "..         ...    ...         ...      ...  \n",
       "281          2   left     left_up       no  \n",
       "282          3   left     left_up      yes  \n",
       "283          1  right     left_up       no  \n",
       "284          3   left    left_low       no  \n",
       "285          3   left    left_low       no  \n",
       "\n",
       "[286 rows x 10 columns]"
      ]
     },
     "execution_count": 40,
     "metadata": {},
     "output_type": "execute_result"
    }
   ],
   "source": [
    "data.loc[0:285,:]"
   ]
  },
  {
   "cell_type": "code",
   "execution_count": 7,
   "id": "53eaf0d9-1d42-4083-b0bd-118246a38a2b",
   "metadata": {},
   "outputs": [
    {
     "data": {
      "text/plain": [
       "Class          0.000000\n",
       "age            0.000000\n",
       "menopause      0.000000\n",
       "Tumor-size     0.000000\n",
       "Inv-nodes      0.000000\n",
       "Node-caps      2.797203\n",
       "Deg-malig      0.000000\n",
       "breast         0.000000\n",
       "Breast-quad    0.349650\n",
       "irradiat       0.000000\n",
       "dtype: float64"
      ]
     },
     "execution_count": 7,
     "metadata": {},
     "output_type": "execute_result"
    }
   ],
   "source": [
    "data.isnull().mean() * 100"
   ]
  },
  {
   "cell_type": "code",
   "execution_count": 49,
   "id": "66391a65",
   "metadata": {},
   "outputs": [
    {
     "data": {
      "text/plain": [
       "(286, 10)"
      ]
     },
     "execution_count": 49,
     "metadata": {},
     "output_type": "execute_result"
    }
   ],
   "source": [
    "data.shape"
   ]
  },
  {
   "cell_type": "code",
   "execution_count": 72,
   "id": "33b6cf40",
   "metadata": {},
   "outputs": [],
   "source": [
    "from sklearn.impute import SimpleImputer\n",
    "imp = SimpleImputer(missing_values=np.NaN, strategy='most_frequent', copy=False)"
   ]
  },
  {
   "cell_type": "code",
   "execution_count": null,
   "id": "e66b385a",
   "metadata": {},
   "outputs": [],
   "source": []
  },
  {
   "cell_type": "code",
   "execution_count": null,
   "id": "19483f2d",
   "metadata": {},
   "outputs": [],
   "source": []
  },
  {
   "cell_type": "code",
   "execution_count": 73,
   "id": "fce5a447",
   "metadata": {},
   "outputs": [],
   "source": [
    "test2 = imp.fit_transform(data)"
   ]
  },
  {
   "cell_type": "code",
   "execution_count": 74,
   "id": "bb0e1b7b",
   "metadata": {},
   "outputs": [
    {
     "name": "stdout",
     "output_type": "stream",
     "text": [
      "[['no-recurrence-events' '30-39' 'premeno' ... 'left' 'left_low' 'no']\n",
      " ['no-recurrence-events' '40-49' 'premeno' ... 'right' 'right_up' 'no']\n",
      " ['no-recurrence-events' '40-49' 'premeno' ... 'left' 'left_low' 'no']\n",
      " ...\n",
      " ['recurrence-events' '60-69' 'ge40' ... 'right' 'left_up' 'no']\n",
      " ['recurrence-events' '40-49' 'ge40' ... 'left' 'left_low' 'no']\n",
      " ['recurrence-events' '50-59' 'ge40' ... 'left' 'left_low' 'no']]\n"
     ]
    }
   ],
   "source": [
    "print(test2)"
   ]
  },
  {
   "cell_type": "code",
   "execution_count": 78,
   "id": "03367620",
   "metadata": {},
   "outputs": [
    {
     "data": {
      "text/plain": [
       "array(['no-recurrence-events', '40-49', 'premeno', '25-29', '0-2', 'no',\n",
       "       2, 'left', 'right_low', 'yes'], dtype=object)"
      ]
     },
     "execution_count": 78,
     "metadata": {},
     "output_type": "execute_result"
    }
   ],
   "source": [
    "test2[145]\n"
   ]
  },
  {
   "cell_type": "code",
   "execution_count": null,
   "id": "9503b7b0",
   "metadata": {},
   "outputs": [],
   "source": []
  }
 ],
 "metadata": {
  "kernelspec": {
   "display_name": "Python 3 (ipykernel)",
   "language": "python",
   "name": "python3"
  },
  "language_info": {
   "codemirror_mode": {
    "name": "ipython",
    "version": 3
   },
   "file_extension": ".py",
   "mimetype": "text/x-python",
   "name": "python",
   "nbconvert_exporter": "python",
   "pygments_lexer": "ipython3",
   "version": "3.9.7"
  }
 },
 "nbformat": 4,
 "nbformat_minor": 5
}
